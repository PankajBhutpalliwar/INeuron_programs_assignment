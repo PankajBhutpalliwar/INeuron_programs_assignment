{
 "cells": [
  {
   "cell_type": "code",
   "execution_count": 8,
   "metadata": {},
   "outputs": [],
   "source": [
    "#1.\tWrite a Python program to find sum of elements in list?\n",
    "\n",
    "def sum_ele(*args):\n",
    "    l = list(args)\n",
    "    sum = 0\n",
    "    for i in l:\n",
    "        sum = sum + i\n",
    "    return sum"
   ]
  },
  {
   "cell_type": "code",
   "execution_count": 12,
   "metadata": {},
   "outputs": [
    {
     "name": "stdout",
     "output_type": "stream",
     "text": [
      "120\n"
     ]
    }
   ],
   "source": [
    "#2.\tWrite a Python program to  Multiply all numbers in the list?\n",
    "\n",
    "l = [1,2,3,4,5]\n",
    "multiplication = 1\n",
    "for i in l:\n",
    "    multiplication = multiplication*i\n",
    "print(multiplication)    "
   ]
  },
  {
   "cell_type": "code",
   "execution_count": 54,
   "metadata": {},
   "outputs": [
    {
     "data": {
      "text/plain": [
       "-40"
      ]
     },
     "execution_count": 54,
     "metadata": {},
     "output_type": "execute_result"
    }
   ],
   "source": [
    "#3.\tWrite a Python program to find smallest number in a list?\n",
    "\n",
    "def smallest_num(*args):\n",
    "    l = list(args)\n",
    "    l.sort()\n",
    "    return l[0]\n",
    "\n",
    "\n",
    "smallest_num(10, 0.05, -40,55,77,66,99,2,45)"
   ]
  },
  {
   "cell_type": "code",
   "execution_count": 55,
   "metadata": {},
   "outputs": [
    {
     "data": {
      "text/plain": [
       "101"
      ]
     },
     "execution_count": 55,
     "metadata": {},
     "output_type": "execute_result"
    }
   ],
   "source": [
    "#4.\tWrite a Python program to find largest number in a list?\n",
    "\n",
    "def largest_num(*args):\n",
    "    l = list(args)\n",
    "    l.sort()\n",
    "    return l[-1]\n",
    "\n",
    "largest_num(98,65,45,101,54,65)"
   ]
  },
  {
   "cell_type": "code",
   "execution_count": 56,
   "metadata": {},
   "outputs": [
    {
     "data": {
      "text/plain": [
       "98"
      ]
     },
     "execution_count": 56,
     "metadata": {},
     "output_type": "execute_result"
    }
   ],
   "source": [
    "#5.\tWrite a Python program to find second largest number in a list?\n",
    "\n",
    "def second_largest_num(*args):\n",
    "    l = list(args)\n",
    "    l.sort()\n",
    "    return l[-2]\n",
    "\n",
    "second_largest_num(98,65,45,101,54,65)"
   ]
  },
  {
   "cell_type": "code",
   "execution_count": 111,
   "metadata": {},
   "outputs": [
    {
     "name": "stdout",
     "output_type": "stream",
     "text": [
      "[55, 66, 4564]\n"
     ]
    }
   ],
   "source": [
    "#6.\tWrite a Python program to find N largest elements from a list?\n",
    "\n",
    "l = [22,55,66,44,33,54,4564,1]\n",
    "N = 3\n",
    "l.sort()\n",
    "print (l[-N:])"
   ]
  },
  {
   "cell_type": "code",
   "execution_count": 163,
   "metadata": {},
   "outputs": [
    {
     "name": "stdout",
     "output_type": "stream",
     "text": [
      "[2, 4, 6, 8, 10, 12, 14, 16, 18, 20, 22, 24, 26, 28, 30, 32, 34, 36, 38, 40, 42, 44, 46, 48, 50]\n"
     ]
    }
   ],
   "source": [
    "#7.\tWrite a Python program to print even numbers in a list?\n",
    "\n",
    "l = range(1,51)\n",
    "even_num=[]\n",
    "for i in l:\n",
    "    if i%2==0:\n",
    "        even_num.append(i)\n",
    "    \n",
    "    else:\n",
    "        pass\n",
    "    \n",
    "print(even_num)    \n",
    "    "
   ]
  },
  {
   "cell_type": "code",
   "execution_count": 164,
   "metadata": {},
   "outputs": [
    {
     "name": "stdout",
     "output_type": "stream",
     "text": [
      "[1, 3, 5, 7, 9, 11, 13, 15, 17, 19, 21, 23, 25, 27, 29, 31, 33, 35, 37, 39, 41, 43, 45, 47, 49]\n"
     ]
    }
   ],
   "source": [
    "#8.\tWrite a Python program to print odd numbers in a List?\n",
    "\n",
    "l = range(1,51)\n",
    "even_num=[]\n",
    "for i in l:\n",
    "    if i%2!=0:\n",
    "        even_num.append(i)\n",
    "    \n",
    "    else:\n",
    "        pass\n",
    "    \n",
    "print(even_num)    \n",
    "    \n"
   ]
  },
  {
   "cell_type": "code",
   "execution_count": 165,
   "metadata": {},
   "outputs": [
    {
     "name": "stdout",
     "output_type": "stream",
     "text": [
      "[1, 2, 4, 5, [1, 2], 5]\n"
     ]
    }
   ],
   "source": [
    "#9.\tWrite a Python program to Remove empty List from List?\n",
    "\n",
    "l = [1,2,4,5,[1,2],[],5,[]]\n",
    "for i in l:\n",
    "    if type(i)==list:\n",
    "        if len(i)==0:\n",
    "            l.remove(i)\n",
    "        else:\n",
    "            pass\n",
    "print(l)       "
   ]
  },
  {
   "cell_type": "code",
   "execution_count": 170,
   "metadata": {},
   "outputs": [
    {
     "name": "stdout",
     "output_type": "stream",
     "text": [
      "[1, 2, 3, 4, 5]\n"
     ]
    }
   ],
   "source": [
    "#10.Write a Python program to Cloning or Copying a list?\n",
    "def copying(l):\n",
    "    copy_l = l[:]\n",
    "    return copy_l\n",
    "\n",
    "\n",
    "l=[1,2,3,4,5]\n",
    "copy=copying(l)\n",
    "print(copy)\n",
    "\n"
   ]
  },
  {
   "cell_type": "code",
   "execution_count": 185,
   "metadata": {},
   "outputs": [],
   "source": [
    "#11.\tWrite a Python program to Count occurrences of an element in a list?\n",
    "\n",
    "l = [1,2,3,4,4,55,6,7,8,4,4,2,2,4,5,6,1]\n",
    "def count_occurance(a):\n",
    "        try:\n",
    "            count = 0\n",
    "            for i in l:\n",
    "                if a==i:\n",
    "                    count = count+1\n",
    "                else:\n",
    "                    pass\n",
    "            return count\n",
    "        except Exception as e:\n",
    "            print('Error Occured!', e)\n",
    "  "
   ]
  },
  {
   "cell_type": "code",
   "execution_count": 186,
   "metadata": {},
   "outputs": [
    {
     "data": {
      "text/plain": [
       "5"
      ]
     },
     "execution_count": 186,
     "metadata": {},
     "output_type": "execute_result"
    }
   ],
   "source": [
    "count_occurance(4)"
   ]
  }
 ],
 "metadata": {
  "kernelspec": {
   "display_name": "Python 3",
   "language": "python",
   "name": "python3"
  },
  "language_info": {
   "codemirror_mode": {
    "name": "ipython",
    "version": 3
   },
   "file_extension": ".py",
   "mimetype": "text/x-python",
   "name": "python",
   "nbconvert_exporter": "python",
   "pygments_lexer": "ipython3",
   "version": "3.8.5"
  }
 },
 "nbformat": 4,
 "nbformat_minor": 4
}
