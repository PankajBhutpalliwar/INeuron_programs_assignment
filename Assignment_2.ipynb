{
 "cells": [
  {
   "cell_type": "code",
   "execution_count": 1,
   "metadata": {},
   "outputs": [
    {
     "name": "stdout",
     "output_type": "stream",
     "text": [
      "Enter the distance in kms: 54\n",
      "54 kms is equal to 33.554034 miles\n"
     ]
    }
   ],
   "source": [
    "#1.\tWrite a Python program to convert kilometers to miles?\n",
    "\n",
    "kilometer = int(input(\"Enter the distance in kms: \"))\n",
    "miles = kilometer*0.621371\n",
    "\n",
    "print(\"{} kms is equal to {} miles\".format(kilometer, miles))"
   ]
  },
  {
   "cell_type": "code",
   "execution_count": 2,
   "metadata": {},
   "outputs": [
    {
     "name": "stdout",
     "output_type": "stream",
     "text": [
      "Enter the temperatue in celcius: 65\n",
      "65 deg. Celsius is equal to 2197.0 Fahrenheit\n"
     ]
    }
   ],
   "source": [
    "#2.Write a Python program to convert Celsius to Fahrenheit?\n",
    "\n",
    "celcius = int(input(\"Enter the temperatue in celcius: \"))\n",
    "fahrenheit = celcius*33.8\n",
    "\n",
    "print(\"{} deg. Celsius is equal to {} Fahrenheit\".format(celcius, fahrenheit))"
   ]
  },
  {
   "cell_type": "code",
   "execution_count": 8,
   "metadata": {},
   "outputs": [
    {
     "name": "stdout",
     "output_type": "stream",
     "text": [
      "Enter the month: 1\n",
      "Enter the year: 2021\n",
      "    January 2021\n",
      "Mo Tu We Th Fr Sa Su\n",
      "             1  2  3\n",
      " 4  5  6  7  8  9 10\n",
      "11 12 13 14 15 16 17\n",
      "18 19 20 21 22 23 24\n",
      "25 26 27 28 29 30 31\n",
      "\n"
     ]
    }
   ],
   "source": [
    "#3.Write a Python program to display calendar?\n",
    "\n",
    "import calendar\n",
    "mm = int(input(\"Enter the month: \"))\n",
    "year = int(input(\"Enter the year: \"))\n",
    "m = calendar.month(year,mm)\n",
    "print(m)\n"
   ]
  },
  {
   "cell_type": "code",
   "execution_count": 20,
   "metadata": {},
   "outputs": [
    {
     "name": "stdout",
     "output_type": "stream",
     "text": [
      "solutions are : (-2+0j) (-4+0j)\n"
     ]
    }
   ],
   "source": [
    "#4.Write a Python program to solve quadratic equation?\n",
    "\n",
    "import cmath\n",
    "a = 1\n",
    "b = 6\n",
    "c = 8 \n",
    "x1 = (-b + cmath.sqrt((b**2 - 4*a*c)))/2*a\n",
    "x2 = (-b - cmath.sqrt((b**2 - 4*a*c)))/2*a\n",
    "\n",
    "print(\"solutions are :\", x1, x2)"
   ]
  },
  {
   "cell_type": "code",
   "execution_count": 5,
   "metadata": {},
   "outputs": [
    {
     "name": "stdout",
     "output_type": "stream",
     "text": [
      "Enter the first number for 'a': 5\n",
      "Enter the second number for 'b': 9\n",
      "Value of 'a' after swapping : 9 \n",
      "Value of 'b' after swapping :  5\n"
     ]
    }
   ],
   "source": [
    "#5.Write a Python program to swap two variables without temp variable?\n",
    "\n",
    "a = int(input(\"Enter the first number for 'a': \"))\n",
    "b = int(input(\"Enter the second number for 'b': \"))\n",
    "\n",
    "a,b = b,a\n",
    "\n",
    "print(\"Value of 'a' after swapping :\", a, \"\\nValue of 'b' after swapping : \", b)"
   ]
  }
 ],
 "metadata": {
  "kernelspec": {
   "display_name": "Python 3",
   "language": "python",
   "name": "python3"
  },
  "language_info": {
   "codemirror_mode": {
    "name": "ipython",
    "version": 3
   },
   "file_extension": ".py",
   "mimetype": "text/x-python",
   "name": "python",
   "nbconvert_exporter": "python",
   "pygments_lexer": "ipython3",
   "version": "3.8.5"
  }
 },
 "nbformat": 4,
 "nbformat_minor": 4
}
