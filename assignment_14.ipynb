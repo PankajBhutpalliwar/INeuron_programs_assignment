{
 "cells": [
  {
   "cell_type": "markdown",
   "id": "a3d30465",
   "metadata": {},
   "source": [
    "Question 1:\n",
    "\n",
    "Define a class with a generator which can iterate the numbers, which are divisible by 7, between a given range 0 and n"
   ]
  },
  {
   "cell_type": "code",
   "execution_count": 30,
   "id": "424c7a92",
   "metadata": {},
   "outputs": [
    {
     "name": "stdout",
     "output_type": "stream",
     "text": [
      "0\n",
      "7\n",
      "14\n"
     ]
    }
   ],
   "source": [
    "def div_by_7(number):\n",
    "    for i in range(number+1):\n",
    "            if i%7==0:\n",
    "                print(i)\n",
    "                \n",
    "\n",
    "div_by_7(14)               "
   ]
  },
  {
   "cell_type": "markdown",
   "id": "af71974f",
   "metadata": {},
   "source": [
    "Question 2:\n",
    "\n",
    "Write a program to compute the frequency of the words from the input. The output should output after sorting the key alphanumerically. \n",
    "\n",
    "Suppose the following input is supplied to the program:\n",
    "\n",
    "New to Python or choosing between Python 2 and Python 3? Read Python 2 or Python 3.\n",
    "\n",
    "Then, the output should be:\n",
    "\n",
    "2:2\n",
    "\n",
    "3.:1\n",
    "\n",
    "3?:1\n",
    "\n",
    "New:1\n",
    "\n",
    "Python:5\n",
    "\n",
    "Read:1\n",
    "\n",
    "and:1\n",
    "\n",
    "between:1\n",
    "\n",
    "choosing:1\n",
    "\n",
    "or:2\n",
    "\n",
    "to:1\n"
   ]
  },
  {
   "cell_type": "code",
   "execution_count": 23,
   "id": "837d7974",
   "metadata": {},
   "outputs": [
    {
     "name": "stdout",
     "output_type": "stream",
     "text": [
      "2:2\n",
      "3.:1\n",
      "3?:1\n",
      "New:1\n",
      "Python:5\n",
      "Read:1\n",
      "and:1\n",
      "between:1\n",
      "choosing:1\n",
      "or:2\n",
      "to:1\n"
     ]
    }
   ],
   "source": [
    "def FreqCounter(sentence):\n",
    "    l = sorted(sentence.split(' '))\n",
    "    new = {}\n",
    "    for i in l:\n",
    "        if i not in new:\n",
    "            new[i] = l.count(i)\n",
    "    for j,k in new.items():\n",
    "        print(f'{j}:{k}')\n",
    "        \n",
    "FreqCounter(\"New to Python or choosing between Python 2 and Python 3? Read Python 2 or Python 3.\")        "
   ]
  },
  {
   "cell_type": "markdown",
   "id": "8ff8cfa9",
   "metadata": {},
   "source": [
    "Question 3:\n",
    "\n",
    "Define a class Person and its two child classes: Male and Female. All classes have a method \"getGender\" which can \n",
    "print \"Male\" for Male class and \"Female\" for Female class.\n"
   ]
  },
  {
   "cell_type": "code",
   "execution_count": 126,
   "id": "c0be0b8d",
   "metadata": {},
   "outputs": [
    {
     "name": "stdout",
     "output_type": "stream",
     "text": [
      "Male or Female\n",
      "Male\n",
      "Female\n"
     ]
    }
   ],
   "source": [
    "class Person:\n",
    "    def getGender(self):\n",
    "        print('Male or Female')\n",
    "        \n",
    "class Male(Person):\n",
    "    def getGender(self):\n",
    "        print('Male')\n",
    "        \n",
    "class Female(Person):\n",
    "    def getGender(self):\n",
    "        print('Female')\n",
    "        \n",
    "        \n",
    "        \n",
    "        \n",
    "a = Person()\n",
    "a.getGender()\n",
    "\n",
    "b = Male()\n",
    "b.getGender()\n",
    "\n",
    "c = Female()\n",
    "c.getGender()        "
   ]
  },
  {
   "cell_type": "markdown",
   "id": "2a11d404",
   "metadata": {},
   "source": [
    "Question 4:\n",
    "\n",
    "Please write a program to generate all sentences where subject is in [\"I\", \"You\"] and verb is in [\"Play\", \"Love\"] and \n",
    "the object is in [\"Hockey\",\"Football\"]."
   ]
  },
  {
   "cell_type": "code",
   "execution_count": 25,
   "id": "4df56b32",
   "metadata": {},
   "outputs": [
    {
     "name": "stdout",
     "output_type": "stream",
     "text": [
      "I Play Hockey\n",
      "I Play Football\n",
      "I Love Hockey\n",
      "I Love Football\n",
      "You Play Hockey\n",
      "You Play Football\n",
      "You Love Hockey\n",
      "You Love Football\n"
     ]
    }
   ],
   "source": [
    "subjects = [\"I\", \"You\"]\n",
    "verb = [\"Play\", \"Love\"]\n",
    "objects = [\"Hockey\", \"Football\"]\n",
    "\n",
    "for i in subjects:\n",
    "    for j in verb:\n",
    "        for k in objects:\n",
    "            print(f\"{i} {j} {k}\")"
   ]
  },
  {
   "cell_type": "markdown",
   "id": "af8237fd",
   "metadata": {},
   "source": [
    "Question 5:\n",
    "\n",
    "Please write a program to compress and decompress the string \"hello world!hello world!hello world!hello world!\".\n"
   ]
  },
  {
   "cell_type": "code",
   "execution_count": 28,
   "id": "4d97a191",
   "metadata": {},
   "outputs": [
    {
     "name": "stdout",
     "output_type": "stream",
     "text": [
      "b'x\\x9c\\xcbH\\xcd\\xc9\\xc9W(\\xcf/\\xcaIQ\\xcc \\x82\\r\\x00\\xbd[\\x11\\xf5'\n",
      "b'hello world!hello world!hello world!hello world!'\n"
     ]
    }
   ],
   "source": [
    "import zlib\n",
    "\n",
    "string = 'hello world!hello world!hello world!hello world!'.encode()\n",
    "t = zlib.compress(string)\n",
    "print(t)\n",
    "print(zlib.decompress(t))"
   ]
  },
  {
   "cell_type": "markdown",
   "id": "2855a358",
   "metadata": {},
   "source": [
    "Question 6:\n",
    "\n",
    "Please write a binary search function which searches an item in a sorted list. The function should return the index of \n",
    "element to be searched in the list."
   ]
  },
  {
   "cell_type": "code",
   "execution_count": 24,
   "id": "6ba11554",
   "metadata": {},
   "outputs": [
    {
     "name": "stdout",
     "output_type": "stream",
     "text": [
      "Index of 66 is : 8\n"
     ]
    }
   ],
   "source": [
    "l = [5,46,22,3,66,55,4,8,799,45]\n",
    "\n",
    "def binarySearch(a):\n",
    "    print(f\"Index of {a} is :\",sorted(l).index(a)) \n",
    "    \n",
    "\n",
    "binarySearch(66)"
   ]
  }
 ],
 "metadata": {
  "kernelspec": {
   "display_name": "Python 3 (ipykernel)",
   "language": "python",
   "name": "python3"
  },
  "language_info": {
   "codemirror_mode": {
    "name": "ipython",
    "version": 3
   },
   "file_extension": ".py",
   "mimetype": "text/x-python",
   "name": "python",
   "nbconvert_exporter": "python",
   "pygments_lexer": "ipython3",
   "version": "3.9.7"
  }
 },
 "nbformat": 4,
 "nbformat_minor": 5
}
