{
 "cells": [
  {
   "cell_type": "code",
   "execution_count": 12,
   "metadata": {},
   "outputs": [
    {
     "name": "stdout",
     "output_type": "stream",
     "text": [
      "Unique dictionary values are: \n",
      "2\n",
      "pank\n"
     ]
    }
   ],
   "source": [
    "#1.\tWrite a Python program to Extract Unique values dictionary values?\n",
    "\n",
    "def dictunique_values(dict):\n",
    "    unique = []\n",
    "    for i in dict.values():\n",
    "            unique.append(i)\n",
    "    print(\"Unique dictionary values are: \")        \n",
    "    for k in unique:\n",
    "        if unique.count(k)==1:\n",
    "            print(k)\n",
    "            \n",
    "            \n",
    "dictunique_values({'a': 1, \"b\":2, \"c\":1, \"d\": 'pank', 'e': 'pankaj', 'f': 'pankaj'})"
   ]
  },
  {
   "cell_type": "code",
   "execution_count": 34,
   "metadata": {},
   "outputs": [
    {
     "name": "stdout",
     "output_type": "stream",
     "text": [
      "16\n"
     ]
    }
   ],
   "source": [
    "#2.\tWrite a Python program to find the sum of all items in a dictionary?\n",
    "\n",
    "def sum_dict_items(dict):\n",
    "    s = sum(dict.values())\n",
    "    print(s)\n",
    "    \n",
    "    \n",
    "sum_dict_items({'a': 1, \"b\":2, \"c\":1, \"d\": 3, 'e': 4, 'f': 5})"
   ]
  },
  {
   "cell_type": "code",
   "execution_count": 49,
   "metadata": {},
   "outputs": [
    {
     "data": {
      "text/plain": [
       "{'a': 1, 'b': 2, 'c': 1, 'd': 3}"
      ]
     },
     "execution_count": 49,
     "metadata": {},
     "output_type": "execute_result"
    }
   ],
   "source": [
    "#3.\tWrite a Python program to Merging two Dictionaries?\n",
    "\n",
    "def merge_dict(dict1, dict2):\n",
    "    dict1.update(dict2)\n",
    "    return dict1\n",
    "\n",
    "\n",
    "merge_dict({'a': 1, \"b\":2, \"c\":1}, {'d':3})"
   ]
  },
  {
   "cell_type": "code",
   "execution_count": 54,
   "metadata": {},
   "outputs": [
    {
     "name": "stdout",
     "output_type": "stream",
     "text": [
      "The original dictionary is : {'month': [1, 2, 3], 'name': ['Jan', 'Feb', 'March']}\n",
      "Flattened dictionary : {1: 'Jan', 2: 'Feb', 3: 'March'}\n"
     ]
    }
   ],
   "source": [
    "#4.\tWrite a Python program to convert key-values list to flat dictionary?\n",
    "\n",
    "from itertools import product\n",
    "\n",
    "test_dict = {'month' : [1, 2, 3],\n",
    "            'name' : ['Jan', 'Feb', 'March']}\n",
    "\n",
    "print(\"The original dictionary is : \" + str(test_dict))\n",
    "\n",
    "res = dict(zip(test_dict['month'], test_dict['name']))\n",
    "print(\"Flattened dictionary : \" + str(res))\n"
   ]
  },
  {
   "cell_type": "code",
   "execution_count": 74,
   "metadata": {},
   "outputs": [
    {
     "name": "stdout",
     "output_type": "stream",
     "text": [
      "OrderedDict([('d', '4'), ('a', '1'), ('b', '2'), ('c', '3')])\n"
     ]
    }
   ],
   "source": [
    "#5.\tWrite a Python program to insertion at the beginning in OrderedDict?\n",
    "\n",
    "from collections import OrderedDict\n",
    "\n",
    "ordered_dict = OrderedDict([('a', '1'), ('b', '2'), ('c', '3')])\n",
    "\n",
    "ordered_dict.update({'d':'4'})\n",
    "ordered_dict.move_to_end('d', last = False)\n",
    "\n",
    "print (str(ordered_dict))"
   ]
  },
  {
   "cell_type": "code",
   "execution_count": 80,
   "metadata": {},
   "outputs": [],
   "source": [
    "#6.\tWrite a Python program to check order of character in string using OrderedDict()?\n",
    "\n",
    "from collections import OrderedDict\n",
    "\n",
    "def check_order(string, pattern):\n",
    "    dict = OrderedDict.fromkeys(string)\n",
    "    \n",
    "    pointer = 0\n",
    "    for k,v in dict.items():\n",
    "        if (k == pattern[pointer]):\n",
    "            pointer += 1\n",
    "            \n",
    "    if pointer == len(pattern):\n",
    "        print(\"Entered character pattern are in order.\")\n",
    "        \n",
    "    else:\n",
    "        print(\"Entered charcter are not in order.\")\n",
    "        "
   ]
  },
  {
   "cell_type": "code",
   "execution_count": 84,
   "metadata": {},
   "outputs": [
    {
     "name": "stdout",
     "output_type": "stream",
     "text": [
      "Entered character pattern are in order.\n"
     ]
    }
   ],
   "source": [
    "string = 'pankaj bhutpalliwar'\n",
    "pattern = 'par'\n",
    "check_order(string, pattern)\n"
   ]
  },
  {
   "cell_type": "code",
   "execution_count": 9,
   "metadata": {},
   "outputs": [
    {
     "data": {
      "text/plain": [
       "[('a', 'k'), ('d', 'l'), ('e', 'p'), ('x', 'v')]"
      ]
     },
     "execution_count": 9,
     "metadata": {},
     "output_type": "execute_result"
    }
   ],
   "source": [
    "#7.\tWrite a Python program to sort Python Dictionaries by Key or Value?\n",
    "\n",
    "d = {'x':'v', 'a': 'k', 'd':'l', 'e':'p'}\n",
    "sorted_dict={}\n",
    "sorted_keys = sorted(d.items())\n",
    "sorted_keys"
   ]
  },
  {
   "cell_type": "code",
   "execution_count": null,
   "metadata": {},
   "outputs": [],
   "source": []
  }
 ],
 "metadata": {
  "kernelspec": {
   "display_name": "Python 3 (ipykernel)",
   "language": "python",
   "name": "python3"
  },
  "language_info": {
   "codemirror_mode": {
    "name": "ipython",
    "version": 3
   },
   "file_extension": ".py",
   "mimetype": "text/x-python",
   "name": "python",
   "nbconvert_exporter": "python",
   "pygments_lexer": "ipython3",
   "version": "3.9.7"
  }
 },
 "nbformat": 4,
 "nbformat_minor": 4
}
