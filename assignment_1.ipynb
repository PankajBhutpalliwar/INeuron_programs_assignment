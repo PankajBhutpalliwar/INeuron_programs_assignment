{
 "cells": [
  {
   "cell_type": "markdown",
   "metadata": {},
   "source": [
    "1.\tWrite a Python program to print \"Hello Python\"?"
   ]
  },
  {
   "cell_type": "code",
   "execution_count": 1,
   "metadata": {},
   "outputs": [
    {
     "name": "stdout",
     "output_type": "stream",
     "text": [
      "Hello Python\n"
     ]
    }
   ],
   "source": [
    "a = \"Hello Python\"\n",
    "print(a)"
   ]
  },
  {
   "cell_type": "markdown",
   "metadata": {},
   "source": [
    "2.\tWrite a Python program to do arithmetical operations addition and division.?"
   ]
  },
  {
   "cell_type": "code",
   "execution_count": 4,
   "metadata": {},
   "outputs": [
    {
     "name": "stdout",
     "output_type": "stream",
     "text": [
      "Enter the first digit :5\n",
      "Enter the second digit :4\n",
      "Addition:  9 \n",
      "Division: 1.25\n"
     ]
    }
   ],
   "source": [
    "a = int(input(\"Enter the first digit :\"))\n",
    "b = int(input(\"Enter the second digit :\"))\n",
    "print(\"Addition: \", a+b, \"\\nDivision:\", a/b )"
   ]
  },
  {
   "cell_type": "markdown",
   "metadata": {},
   "source": [
    "3.Write a Python program to find the area of a triangle?"
   ]
  },
  {
   "cell_type": "code",
   "execution_count": 2,
   "metadata": {},
   "outputs": [
    {
     "name": "stdout",
     "output_type": "stream",
     "text": [
      "Enter base of the triangle : 5\n",
      "Enter height of the triangle : 6\n",
      "Area of the triangle is :  15.0\n"
     ]
    }
   ],
   "source": [
    "b = int(input(\"Enter base of the triangle : \"))\n",
    "h = int(input(\"Enter height of the triangle : \"))\n",
    "c = (h*b)/2\n",
    "print(\"Area of the triangle is : \", c)"
   ]
  },
  {
   "cell_type": "markdown",
   "metadata": {},
   "source": [
    " 4.\tWrite a Python program to swap two variables?"
   ]
  },
  {
   "cell_type": "code",
   "execution_count": 1,
   "metadata": {},
   "outputs": [
    {
     "name": "stdout",
     "output_type": "stream",
     "text": [
      "Enter the value for 'a': 5\n",
      "Enter the  for 'b': 6\n",
      "Value of 'a' after swapping : 6 \n",
      "Value of 'b' after swapping :  5\n"
     ]
    }
   ],
   "source": [
    "a = int(input(\"Enter the value for 'a': \"))\n",
    "b = int(input(\"Enter the  for 'b': \"))\n",
    "\n",
    "a,b = b,a\n",
    "\n",
    "print(\"Value of 'a' after swapping :\", a, \"\\nValue of 'b' after swapping : \", b)"
   ]
  },
  {
   "cell_type": "markdown",
   "metadata": {},
   "source": [
    "5.Write a Python program to generate a random number?"
   ]
  },
  {
   "cell_type": "code",
   "execution_count": 13,
   "metadata": {},
   "outputs": [
    {
     "name": "stdout",
     "output_type": "stream",
     "text": [
      "4\n"
     ]
    }
   ],
   "source": [
    "import random\n",
    "r = random.randint(0,9)\n",
    "print(r)"
   ]
  }
 ],
 "metadata": {
  "kernelspec": {
   "display_name": "Python 3",
   "language": "python",
   "name": "python3"
  },
  "language_info": {
   "codemirror_mode": {
    "name": "ipython",
    "version": 3
   },
   "file_extension": ".py",
   "mimetype": "text/x-python",
   "name": "python",
   "nbconvert_exporter": "python",
   "pygments_lexer": "ipython3",
   "version": "3.8.5"
  }
 },
 "nbformat": 4,
 "nbformat_minor": 4
}
