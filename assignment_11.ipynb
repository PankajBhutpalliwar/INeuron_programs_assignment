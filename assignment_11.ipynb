{
 "cells": [
  {
   "cell_type": "code",
   "execution_count": 21,
   "metadata": {},
   "outputs": [
    {
     "name": "stdout",
     "output_type": "stream",
     "text": [
      "my name is pankaj\n",
      "3\n",
      "name pankaj "
     ]
    }
   ],
   "source": [
    "#1.\tWrite a Python program to find words which are greater than given length k?\n",
    "\n",
    "sentence = str(input())\n",
    "words = sentence.split(' ')\n",
    "k = int(input())\n",
    "for i in words:\n",
    "    if len(i)<=k:\n",
    "        words.remove(i)\n",
    "for j in words:\n",
    "    print(j, end=' ')"
   ]
  },
  {
   "cell_type": "code",
   "execution_count": 28,
   "metadata": {},
   "outputs": [
    {
     "name": "stdout",
     "output_type": "stream",
     "text": [
      "pankaj\n",
      "Enter index of the character to remove: 3\n",
      "panaj\n"
     ]
    }
   ],
   "source": [
    "#2.\tWrite a Python program for removing i-th character from a string?\n",
    "\n",
    "string = str(input())\n",
    "index = int(input(\"Enter index of the character to remove: \"))\n",
    "for i in range(len(string)):\n",
    "    if index == i:\n",
    "        new = string.replace(string[i],'')\n",
    "        print(new)"
   ]
  },
  {
   "cell_type": "code",
   "execution_count": 34,
   "metadata": {},
   "outputs": [
    {
     "name": "stdout",
     "output_type": "stream",
     "text": [
      "['my', 'name', 'is', 'pankaj']\n"
     ]
    },
    {
     "data": {
      "text/plain": [
       "'my-name-is-pankaj'"
      ]
     },
     "execution_count": 34,
     "metadata": {},
     "output_type": "execute_result"
    }
   ],
   "source": [
    "#3.\tWrite a Python program to split and join a string?\n",
    "\n",
    "def split(string):\n",
    "    return string.split(' ')\n",
    "\n",
    "def join(list_string):\n",
    "    return '-'.join(list_string)\n",
    "\n",
    "\n",
    "s = \"my name is pankaj\"\n",
    "l = split(s)\n",
    "print(l)\n",
    "\n",
    "join(l)"
   ]
  },
  {
   "cell_type": "code",
   "execution_count": 79,
   "metadata": {},
   "outputs": [],
   "source": [
    "#4.\tWrite a Python to check if a given string is binary string or not?\n",
    "\n",
    "def binary_string(string):\n",
    "    s = set(string)\n",
    "    p = {'0', '1'}\n",
    "    if s == p or  s=={'0'}  or s == {'1'}:\n",
    "        print(\"Given string is binary.\")\n",
    "    else:\n",
    "        print('Given string is not binary.')"
   ]
  },
  {
   "cell_type": "code",
   "execution_count": 82,
   "metadata": {},
   "outputs": [
    {
     "name": "stdout",
     "output_type": "stream",
     "text": [
      "Given string is binary.\n"
     ]
    }
   ],
   "source": [
    "s = '0101010'\n",
    "binary_string(s)"
   ]
  },
  {
   "cell_type": "code",
   "execution_count": 33,
   "metadata": {},
   "outputs": [
    {
     "data": {
      "text/plain": [
       "' pankaj bhutpalliwar pankkaj'"
      ]
     },
     "execution_count": 33,
     "metadata": {},
     "output_type": "execute_result"
    }
   ],
   "source": [
    "#5.\tWrite a Python program to find uncommon words from two Strings?\n",
    "\n",
    "def uncommon_words(string1, string2):\n",
    "    s1 = string1.split()\n",
    "    s2 = string2.split()\n",
    "    words = ''\n",
    "    for i in s1:\n",
    "        if i not in s2:\n",
    "            words = words + \" \" + i\n",
    "    for j in s2:\n",
    "        if j not in s1:\n",
    "            words = words + \" \" + j\n",
    "            \n",
    "    return words   \n",
    "\n",
    "\n",
    "s1 = \"my name is xyz pankaj bhutpalliwar\"\n",
    "s2 = \"my name is xyz pankkaj\"\n",
    "uncommon_words(s1,s2)"
   ]
  },
  {
   "cell_type": "code",
   "execution_count": 88,
   "metadata": {},
   "outputs": [
    {
     "name": "stdout",
     "output_type": "stream",
     "text": [
      "Duplicate characters are: \n",
      "a k j "
     ]
    }
   ],
   "source": [
    "#6.\tWrite a Python to find all duplicate characters in string?\n",
    "\n",
    "def duplicate_charc(string):\n",
    "    duplicate = []\n",
    "    for i in string:\n",
    "            if string.count(i)>1:\n",
    "                if i not in duplicate:\n",
    "                    duplicate.append(i)\n",
    "    print('Duplicate characters are: ')\n",
    "    for i in duplicate:\n",
    "        print(i , end = ' ') \n",
    "        \n",
    "        \n",
    "duplicate_charc(\"pankkajaj\")        "
   ]
  },
  {
   "cell_type": "code",
   "execution_count": 137,
   "metadata": {},
   "outputs": [
    {
     "name": "stdout",
     "output_type": "stream",
     "text": [
      "String contains special character.\n"
     ]
    }
   ],
   "source": [
    "#7.\tWrite a Python Program to check if a string contains any special character?\n",
    "\n",
    "import re\n",
    "def check_special_char(string):\n",
    "    char = re.search('[@_!#$%^&*()<>?/\\|}{~:]', string)\n",
    "    if char:\n",
    "        print('String contains special character.')\n",
    "    else:\n",
    "        print('Does not contain any special character.')\n",
    "  \n",
    "\n",
    "        \n",
    "check_special_char(\"panka##\")        "
   ]
  },
  {
   "cell_type": "code",
   "execution_count": null,
   "metadata": {},
   "outputs": [],
   "source": []
  }
 ],
 "metadata": {
  "kernelspec": {
   "display_name": "Python 3",
   "language": "python",
   "name": "python3"
  },
  "language_info": {
   "codemirror_mode": {
    "name": "ipython",
    "version": 3
   },
   "file_extension": ".py",
   "mimetype": "text/x-python",
   "name": "python",
   "nbconvert_exporter": "python",
   "pygments_lexer": "ipython3",
   "version": "3.8.5"
  }
 },
 "nbformat": 4,
 "nbformat_minor": 4
}
