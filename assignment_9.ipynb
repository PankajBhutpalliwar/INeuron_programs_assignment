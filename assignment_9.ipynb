{
 "cells": [
  {
   "cell_type": "code",
   "execution_count": 44,
   "metadata": {},
   "outputs": [],
   "source": [
    "#1.\tWrite a Python program to check if the given number is a Disarium Number?\n",
    "\n",
    "def dis_num(n):\n",
    "    digits = len(str(n))\n",
    "    sum = 0\n",
    "    num = n\n",
    "    while num!=0:\n",
    "        y = num % 10\n",
    "        sum = int(sum + y**digits)\n",
    "        #print(sum)\n",
    "        digits = digits - 1\n",
    "        num = num//10\n",
    "       \n",
    "        \n",
    "    if sum==n:\n",
    "        print(\"{} is a Disarium Number.\".format(n))\n",
    "        \n",
    "    else:\n",
    "        print(\"{} is a not Disarium Number.\".format(n))\n",
    "    "
   ]
  },
  {
   "cell_type": "code",
   "execution_count": 48,
   "metadata": {},
   "outputs": [
    {
     "name": "stdout",
     "output_type": "stream",
     "text": [
      "175 is a Disarium Number.\n"
     ]
    }
   ],
   "source": [
    "dis_num(175)"
   ]
  },
  {
   "cell_type": "code",
   "execution_count": 61,
   "metadata": {},
   "outputs": [
    {
     "name": "stdout",
     "output_type": "stream",
     "text": [
      "Disarium Numbers between 1 to 100 are: \n",
      "1\n",
      "2\n",
      "3\n",
      "4\n",
      "5\n",
      "6\n",
      "7\n",
      "8\n",
      "9\n",
      "89\n"
     ]
    }
   ],
   "source": [
    "#2.\tWrite a Python program to print all disarium numbers between 1 to 100?\n",
    "\n",
    "\n",
    "num = range(1,101)\n",
    "print(\"Disarium Numbers between 1 to 100 are: \")\n",
    "for i in num:\n",
    "    a = len(str(i))\n",
    "    sum = 0\n",
    "    x = i\n",
    "    while x!=0:\n",
    "        y = x%10\n",
    "        sum = int(sum + y**a)\n",
    "        a = a-1\n",
    "        x = x//10\n",
    "    if sum == i:\n",
    "        print(sum)\n",
    "    else:\n",
    "        pass"
   ]
  },
  {
   "cell_type": "code",
   "execution_count": 3,
   "metadata": {},
   "outputs": [],
   "source": [
    "#3.\tWrite a Python program to check if the given number is Happy Number?\n",
    "\n",
    "def happy_num(num):\n",
    "    sum = 0\n",
    "    while num>0:\n",
    "        r = num%10\n",
    "        sum = int(sum + r**2)\n",
    "        num = num//10\n",
    "    \n",
    "    result = num\n",
    "    print(result)\n",
    "        \n",
    "    if result:\n",
    "        print(\"happy number\")\n",
    "    \n",
    "    else:\n",
    "        print (\"not happy number\")"
   ]
  },
  {
   "cell_type": "code",
   "execution_count": 4,
   "metadata": {},
   "outputs": [
    {
     "name": "stdout",
     "output_type": "stream",
     "text": [
      "0\n",
      "not happy number\n"
     ]
    }
   ],
   "source": [
    "happy_num(82)"
   ]
  },
  {
   "cell_type": "code",
   "execution_count": null,
   "metadata": {},
   "outputs": [],
   "source": []
  },
  {
   "cell_type": "code",
   "execution_count": null,
   "metadata": {},
   "outputs": [],
   "source": [
    "4.\tWrite a Python program to print all happy numbers between 1 and 100?"
   ]
  },
  {
   "cell_type": "code",
   "execution_count": 1,
   "metadata": {},
   "outputs": [
    {
     "name": "stdout",
     "output_type": "stream",
     "text": [
      "The list of happy numbers between 1 and 100 are : \n",
      "1\n",
      "7\n",
      "10\n",
      "13\n",
      "19\n",
      "23\n",
      "28\n",
      "31\n",
      "32\n",
      "44\n",
      "49\n",
      "68\n",
      "70\n",
      "79\n",
      "82\n",
      "86\n",
      "91\n",
      "94\n",
      "97\n",
      "100\n"
     ]
    }
   ],
   "source": [
    "def happyNumber(num):\n",
    "    remender = sum1 = 0\n",
    "    while num>0:\n",
    "        remender = num%10\n",
    "        sum1 = sum1 + (remender*remender)\n",
    "        num = num//10\n",
    "    return sum1\n",
    "\n",
    "print(\"The list of happy numbers between 1 and 100 are : \")\n",
    "\n",
    "for i in range(1, 101):\n",
    "    result = i\n",
    "    \n",
    "    while(result != 1 and result != 4):\n",
    "        result = happyNumber(result)\n",
    "    if(result == 1):\n",
    "        print(i)"
   ]
  },
  {
   "cell_type": "code",
   "execution_count": null,
   "metadata": {},
   "outputs": [],
   "source": [
    "5.\tWrite a Python program to determine whether the given number is a Harshad Number?"
   ]
  },
  {
   "cell_type": "code",
   "execution_count": 42,
   "metadata": {},
   "outputs": [
    {
     "name": "stdout",
     "output_type": "stream",
     "text": [
      "156 is a Harshad Number.\n"
     ]
    }
   ],
   "source": [
    "def harshadNum(num1):\n",
    "    rem = sum2 = 0\n",
    "    n= num1\n",
    "    \n",
    "    while num1>0:\n",
    "        rem = num1%10\n",
    "        sum2 = sum2 + rem\n",
    "        num1 = num1//10\n",
    "        \n",
    "    if n%sum2==0:\n",
    "        print(f'{n} is a Harshad Number.')\n",
    "        \n",
    "    else:\n",
    "        print(f'{n} is not a Harshad Number.')\n",
    "        \n",
    "        \n",
    "        \n",
    "harshadNum(156)        "
   ]
  },
  {
   "cell_type": "code",
   "execution_count": null,
   "metadata": {},
   "outputs": [],
   "source": [
    "6.\tWrite a Python program to print all pronic numbers between 1 and 100?"
   ]
  },
  {
   "cell_type": "code",
   "execution_count": 69,
   "metadata": {},
   "outputs": [
    {
     "name": "stdout",
     "output_type": "stream",
     "text": [
      "Entered number is a pronic number\n"
     ]
    }
   ],
   "source": [
    "def PronicNum(number):\n",
    "    flag = False\n",
    "    for i in range(1,number+1):\n",
    "        if i*(i+1) == number:\n",
    "            flag = True\n",
    "    if flag==True:\n",
    "        print ('Entered number is a pronic number')\n",
    "    else:\n",
    "        print ('Entered number is not a pronic number')\n",
    "\n",
    "                \n",
    "PronicNum(12)"
   ]
  },
  {
   "cell_type": "code",
   "execution_count": null,
   "metadata": {},
   "outputs": [],
   "source": []
  }
 ],
 "metadata": {
  "kernelspec": {
   "display_name": "Python 3 (ipykernel)",
   "language": "python",
   "name": "python3"
  },
  "language_info": {
   "codemirror_mode": {
    "name": "ipython",
    "version": 3
   },
   "file_extension": ".py",
   "mimetype": "text/x-python",
   "name": "python",
   "nbconvert_exporter": "python",
   "pygments_lexer": "ipython3",
   "version": "3.9.7"
  }
 },
 "nbformat": 4,
 "nbformat_minor": 4
}
