{
 "cells": [
  {
   "cell_type": "code",
   "execution_count": 68,
   "metadata": {},
   "outputs": [],
   "source": [
    "#1.\tWrite a Python Program to Display Fibonacci Sequence Using Recursion?\n",
    "\n",
    "def recursive_fibonacci(n):\n",
    "    if n <= 1:\n",
    "        return n\n",
    "    else:\n",
    "        return(recursive_fibonacci(n-1) + recursive_fibonacci(n-2))"
   ]
  },
  {
   "cell_type": "code",
   "execution_count": 69,
   "metadata": {},
   "outputs": [
    {
     "data": {
      "text/plain": [
       "55"
      ]
     },
     "execution_count": 69,
     "metadata": {},
     "output_type": "execute_result"
    }
   ],
   "source": [
    "recursive_fibonacci(10)"
   ]
  },
  {
   "cell_type": "code",
   "execution_count": 3,
   "metadata": {},
   "outputs": [
    {
     "data": {
      "text/plain": [
       "120"
      ]
     },
     "execution_count": 3,
     "metadata": {},
     "output_type": "execute_result"
    }
   ],
   "source": [
    "#2.\tWrite a Python Program to Find Factorial of Number Using Recursion?\n",
    "\n",
    "def factorial(n):\n",
    "    if n==0 :\n",
    "        return 1\n",
    "    else:\n",
    "        return(n * factorial(n-1))\n",
    "    \n",
    "factorial(5)    "
   ]
  },
  {
   "cell_type": "code",
   "execution_count": 57,
   "metadata": {},
   "outputs": [],
   "source": [
    "#3.\tWrite a Python Program to calculate your Body Mass Index?\n",
    "\n",
    "def BMI():\n",
    "    try:\n",
    "        wt = int(input(\"Enter weight in kgs: \"))\n",
    "        ht = int(input(\"Enter height in feets: \"))\n",
    "        #to convert height in feets to meter\n",
    "        height = ht*0.3048\n",
    "        BMI = wt/height**2\n",
    "        BMI = round(BMI, 3)\n",
    "        if BMI < 18.5:\n",
    "            print(f\"Your BMI is {BMI} and you are underweight.\")\n",
    "        elif BMI >= 18.5 and BMI <= 24.9:\n",
    "            print(f\"Your BMI is {BMI} and you are weight is normal.\")\n",
    "        elif BMI >= 25 and BMI <= 29.9:\n",
    "            print(f\"Your BMI is {BMI} and you are overweight.\")\n",
    "        else:\n",
    "            print(f\"Your BMI is {BMI} and you are very overweight.\")\n",
    "            \n",
    "    except Exception as e:\n",
    "        print(\"Enter a valid number.\")"
   ]
  },
  {
   "cell_type": "code",
   "execution_count": 58,
   "metadata": {},
   "outputs": [
    {
     "name": "stdout",
     "output_type": "stream",
     "text": [
      "Enter weight in kgs: 72\n",
      "Enter height in feets: 6\n",
      "Your BMI is 21.528 and you are weight is normal.\n"
     ]
    }
   ],
   "source": [
    "BMI()"
   ]
  },
  {
   "cell_type": "code",
   "execution_count": 60,
   "metadata": {},
   "outputs": [],
   "source": [
    "#4.\tWrite a Python Program to calculate the natural logarithm of any number\n",
    "\n",
    "def natural_log():\n",
    "    try:\n",
    "        import math\n",
    "        num = int(input(\"Enter any number: \"))\n",
    "        if num >0:\n",
    "            num1 = math.log(num)\n",
    "            print (f\"natural logarithm of {num} is \", num1)\n",
    "        else:\n",
    "            print(\"Entered number is not a natural number.\")  \n",
    "    except Exception as e:\n",
    "        print('enter a valid number.')"
   ]
  },
  {
   "cell_type": "code",
   "execution_count": 61,
   "metadata": {},
   "outputs": [
    {
     "name": "stdout",
     "output_type": "stream",
     "text": [
      "Enter any number: 5\n",
      "natural logarithm of 5 is  1.6094379124341003\n"
     ]
    }
   ],
   "source": [
    "natural_log()"
   ]
  },
  {
   "cell_type": "code",
   "execution_count": 62,
   "metadata": {},
   "outputs": [],
   "source": [
    "#5.\tWrite a Python Program for cube sum of first n natural numbers?\n",
    "\n",
    "def cubesum():\n",
    "    try:\n",
    "        n = int(input(\"Enter the 'n'th natural number: \"))\n",
    "        sum = 0\n",
    "        if n >0:\n",
    "            for i in range(1,n+1):\n",
    "                cube = i**3\n",
    "                sum = sum + cube\n",
    "            print(sum)\n",
    "        else:\n",
    "            print(\"Entered number is not a natural number.\")\n",
    "    except Exception as e:\n",
    "        print(e)"
   ]
  },
  {
   "cell_type": "code",
   "execution_count": 64,
   "metadata": {},
   "outputs": [
    {
     "name": "stdout",
     "output_type": "stream",
     "text": [
      "Enter the 'n'th natural number: 10\n",
      "3025\n"
     ]
    }
   ],
   "source": [
    "cubesum()"
   ]
  }
 ],
 "metadata": {
  "kernelspec": {
   "display_name": "Python 3",
   "language": "python",
   "name": "python3"
  },
  "language_info": {
   "codemirror_mode": {
    "name": "ipython",
    "version": 3
   },
   "file_extension": ".py",
   "mimetype": "text/x-python",
   "name": "python",
   "nbconvert_exporter": "python",
   "pygments_lexer": "ipython3",
   "version": "3.8.5"
  }
 },
 "nbformat": 4,
 "nbformat_minor": 4
}
