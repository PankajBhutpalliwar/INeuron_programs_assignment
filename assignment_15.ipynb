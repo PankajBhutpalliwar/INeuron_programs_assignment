{
 "cells": [
  {
   "cell_type": "markdown",
   "id": "f04699f6",
   "metadata": {},
   "source": [
    "Question 1:\n",
    "Please write a program using generator to print the numbers which can be divisible by 5 and 7 between 0 and n in \n",
    "comma separated form while n is input by console.\n",
    "Example:\n",
    "If the following n is given as input to the program:\n",
    "100\n",
    "Then, the output of the program should be:\n",
    "0,35,70\n"
   ]
  },
  {
   "cell_type": "code",
   "execution_count": 30,
   "id": "6a1ac1b1",
   "metadata": {},
   "outputs": [
    {
     "name": "stdout",
     "output_type": "stream",
     "text": [
      "0,35,70\n"
     ]
    }
   ],
   "source": [
    "def div(num):\n",
    "    l = []\n",
    "    for i in range(num+1):\n",
    "        if i%5==0 and i%7==0:\n",
    "            l.append(str(i))\n",
    "    print (\",\".join(l))\n",
    "    \n",
    "div(100)    "
   ]
  },
  {
   "cell_type": "markdown",
   "id": "84b9a942",
   "metadata": {},
   "source": [
    "Question 2:\n",
    "    \n",
    "Please write a program using generator to print the even numbers between 0 and n in comma separated form while n is input\n",
    "by console.\n",
    "Example:\n",
    "If the following n is given as input to the program:\n",
    "10\n",
    "Then, the output of the program should be:\n",
    "0,2,4,6,8,10"
   ]
  },
  {
   "cell_type": "code",
   "execution_count": 31,
   "id": "e48ce2df",
   "metadata": {},
   "outputs": [
    {
     "name": "stdout",
     "output_type": "stream",
     "text": [
      "0,2,4,6,8,10\n"
     ]
    }
   ],
   "source": [
    "def even(num):\n",
    "    l = []\n",
    "    for i in range(num+1):\n",
    "        if i%2==0:\n",
    "            l.append(str(i))\n",
    "    print (\",\".join(l))\n",
    "\n",
    "even(10)    "
   ]
  },
  {
   "cell_type": "markdown",
   "id": "18e8a3d5",
   "metadata": {},
   "source": [
    "Question 3:\n",
    "    \n",
    "The Fibonacci Sequence is computed based on the following formula:\n",
    "f(n)=0 if n=0\n",
    "f(n)=1 if n=1\n",
    "f(n)=f(n-1)+f(n-2) if n>1\n",
    "Please write a program using list comprehension to print the Fibonacci Sequence in comma separated form with a given n input by console.\n",
    "Example:\n",
    "If the following n is given as input to the program:\n",
    "7\n",
    "\n",
    "Then, the output of the program should be:\n",
    "0,1,1,2,3,5,8,13"
   ]
  },
  {
   "cell_type": "code",
   "execution_count": 2,
   "id": "6fb63f6f",
   "metadata": {},
   "outputs": [
    {
     "name": "stdout",
     "output_type": "stream",
     "text": [
      "7\n",
      "0 1 1 2 3 5 8 13\n"
     ]
    }
   ],
   "source": [
    "n = int(input())\n",
    "fib = [0, 1]\n",
    "[fib.append(sum(fib[-2:])) for x in range(n)]\n",
    "print(*(fib[:n+1]))"
   ]
  },
  {
   "cell_type": "markdown",
   "id": "80463683",
   "metadata": {},
   "source": [
    "Question 4:\n",
    "Assuming that we have some email addresses in the \"username@companyname.com\" format, please write program to print the \n",
    "user name of a given email address. Both user names and company names are composed of letters only.\n",
    "Example:\n",
    "If the following email address is given as input to the program:\n",
    "john@google.com\n",
    "Then, the output of the program should be:\n",
    "john\n"
   ]
  },
  {
   "cell_type": "code",
   "execution_count": 50,
   "id": "42625ea2",
   "metadata": {},
   "outputs": [
    {
     "data": {
      "text/plain": [
       "'john'"
      ]
     },
     "execution_count": 50,
     "metadata": {},
     "output_type": "execute_result"
    }
   ],
   "source": [
    "def name(email_id):\n",
    "    return email_id.split('@')[0]\n",
    "\n",
    "name(\"john@google.com\")"
   ]
  },
  {
   "cell_type": "markdown",
   "id": "6dace7a4",
   "metadata": {},
   "source": [
    "Question 5:\n",
    "    \n",
    "Define a class named Shape and its subclass Square. The Square class has an init function which takes a length as argument.\n",
    "Both classes have a area function which can print the area of the shape where Shape's area is 0 by default.\n",
    "\n"
   ]
  },
  {
   "cell_type": "code",
   "execution_count": 52,
   "id": "3b54afd9",
   "metadata": {},
   "outputs": [],
   "source": [
    "class Shape:\n",
    "    def __init__(self, length):\n",
    "        self.length = length\n",
    "    \n",
    "    def area(self):\n",
    "        return 0\n",
    "    \n",
    "class square(Shape):\n",
    "    def __init__(self, *args):\n",
    "        Shape.__init__(self,*args)\n",
    "    def area(self):\n",
    "        return self.length**2"
   ]
  },
  {
   "cell_type": "code",
   "execution_count": 56,
   "id": "042ac249",
   "metadata": {},
   "outputs": [],
   "source": [
    "shape = Shape(10)\n",
    "s = square(10)"
   ]
  },
  {
   "cell_type": "code",
   "execution_count": 58,
   "id": "e92c7fa0",
   "metadata": {},
   "outputs": [
    {
     "data": {
      "text/plain": [
       "0"
      ]
     },
     "execution_count": 58,
     "metadata": {},
     "output_type": "execute_result"
    }
   ],
   "source": [
    "shape.area()\n"
   ]
  },
  {
   "cell_type": "code",
   "execution_count": 59,
   "id": "527bd60f",
   "metadata": {},
   "outputs": [
    {
     "data": {
      "text/plain": [
       "100"
      ]
     },
     "execution_count": 59,
     "metadata": {},
     "output_type": "execute_result"
    }
   ],
   "source": [
    "s.area()"
   ]
  },
  {
   "cell_type": "code",
   "execution_count": null,
   "id": "085e906b",
   "metadata": {},
   "outputs": [],
   "source": []
  }
 ],
 "metadata": {
  "kernelspec": {
   "display_name": "Python 3 (ipykernel)",
   "language": "python",
   "name": "python3"
  },
  "language_info": {
   "codemirror_mode": {
    "name": "ipython",
    "version": 3
   },
   "file_extension": ".py",
   "mimetype": "text/x-python",
   "name": "python",
   "nbconvert_exporter": "python",
   "pygments_lexer": "ipython3",
   "version": "3.9.7"
  }
 },
 "nbformat": 4,
 "nbformat_minor": 5
}
